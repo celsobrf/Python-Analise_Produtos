{
 "cells": [
  {
   "cell_type": "markdown",
   "id": "3bc90bae",
   "metadata": {},
   "source": [
    "# Projeto Módulo 1 - Nuvem de Palavras"
   ]
  },
  {
   "cell_type": "markdown",
   "id": "7f91bf01",
   "metadata": {},
   "source": [
    "Nuvem de palavras é um recurso gráfico (usado principalmente na internet) para descrever os termos mais frequentes de um determinado texto. O tamanho da fonte em que a palavra é apresentada é uma função da frequência da palavra no texto: palavras mais frequentes são desenhadas em fontes de tamanho maior, palavras menos frequentes são desenhadas em fontes de tamanho menor.\n",
    "\n",
    "Apresentar, de forma resumida, um dado sobre texto(s) ou conversações através de nuvem de palavras tornou-se\n",
    "uma ferramenta muito poderosa. Podemos vislumbrar imediatamente os termos mais comuns de um texto de maneira muito prática.\n",
    "\n",
    "(Adaptado de: http://sefarditas.net.br/ava/descoe3/nuvem_palavras.pdf)"
   ]
  },
  {
   "cell_type": "code",
   "execution_count": 1,
   "id": "9aa01691",
   "metadata": {},
   "outputs": [
    {
     "name": "stderr",
     "output_type": "stream",
     "text": [
      "C:\\Users\\celso\\AppData\\Local\\Temp\\ipykernel_872\\2058709175.py:1: DeprecationWarning: Importing display from IPython.core.display is deprecated since IPython 7.14, please import from IPython display\n",
      "  from IPython.core.display import display, HTML\n"
     ]
    }
   ],
   "source": [
    "from IPython.core.display import display, HTML"
   ]
  },
  {
   "cell_type": "code",
   "execution_count": 2,
   "id": "bbb8df2b",
   "metadata": {},
   "outputs": [
    {
     "data": {
      "text/html": [
       "<img src=\"https://tirandolicoesdetudo.com.br/wp-content/uploads/2018/03/Wordcloud_CV-768x387.png\">"
      ],
      "text/plain": [
       "<IPython.core.display.HTML object>"
      ]
     },
     "metadata": {},
     "output_type": "display_data"
    }
   ],
   "source": [
    "display(HTML('<img src=\"https://tirandolicoesdetudo.com.br/wp-content/uploads/2018/03/Wordcloud_CV-768x387.png\">'))"
   ]
  },
  {
   "cell_type": "markdown",
   "id": "e97a7d96",
   "metadata": {},
   "source": [
    "O código abaixo, em html, contém as configurações de exibição da nossa nuvem. Não se preocupe em tentar entendê-lo ou ter que editá-lo, ele só precisa ser executado."
   ]
  },
  {
   "cell_type": "code",
   "execution_count": 3,
   "id": "967b6c22",
   "metadata": {},
   "outputs": [
    {
     "data": {
      "text/html": [
       "<style>\n",
       "ul.cloud {\n",
       "  list-style: none;\n",
       "  padding-left: 0;\n",
       "  display: flex;\n",
       "  flex-wrap: wrap;\n",
       "  align-items: center;\n",
       "  justify-content: center;\n",
       "  line-height: 2.75rem;\n",
       "  width: 600px;\n",
       "}\n",
       "\n",
       "ul.cloud a {\n",
       "  --size: 4;\n",
       "  --color: #a33;\n",
       "  color: var(--color);\n",
       "  font-size: calc(var(--size) * 0.25rem + 0.5rem);\n",
       "  display: block;\n",
       "  padding: 0.125rem 0.25rem;\n",
       "  position: relative;\n",
       "  text-decoration: none;\n",
       "}\n",
       "\n",
       "ul.cloud a[data-weight=\"1\"] { --size: 1; }\n",
       "ul.cloud a[data-weight=\"2\"] { --size: 2; }\n",
       "ul.cloud a[data-weight=\"3\"] { --size: 3; }\n",
       "ul.cloud a[data-weight=\"4\"] { --size: 4; }\n",
       "ul.cloud a[data-weight=\"5\"] { --size: 6; }\n",
       "ul.cloud a[data-weight=\"6\"] { --size: 8; }\n",
       "ul.cloud a[data-weight=\"7\"] { --size: 10; }\n",
       "ul.cloud a[data-weight=\"8\"] { --size: 13; }\n",
       "ul.cloud a[data-weight=\"9\"] { --size: 16; }\n",
       "\n",
       "ul[data-show-value] a::after {\n",
       "  content: \" (\" attr(data-weight) \")\";\n",
       "  font-size: 1rem;\n",
       "}\n",
       "\n",
       "ul.cloud li:nth-child(2n+1) a { --color: #181; }\n",
       "ul.cloud li:nth-child(3n+1) a { --color: #33a; }\n",
       "ul.cloud li:nth-child(4n+1) a { --color: #c38; }\n",
       "</style>\n"
      ],
      "text/plain": [
       "<IPython.core.display.HTML object>"
      ]
     },
     "metadata": {},
     "output_type": "display_data"
    }
   ],
   "source": [
    "%%html\n",
    "<style>\n",
    "ul.cloud {\n",
    "  list-style: none;\n",
    "  padding-left: 0;\n",
    "  display: flex;\n",
    "  flex-wrap: wrap;\n",
    "  align-items: center;\n",
    "  justify-content: center;\n",
    "  line-height: 2.75rem;\n",
    "  width: 600px;\n",
    "}\n",
    "\n",
    "ul.cloud a {\n",
    "  --size: 4;\n",
    "  --color: #a33;\n",
    "  color: var(--color);\n",
    "  font-size: calc(var(--size) * 0.25rem + 0.5rem);\n",
    "  display: block;\n",
    "  padding: 0.125rem 0.25rem;\n",
    "  position: relative;\n",
    "  text-decoration: none;\n",
    "}\n",
    "\n",
    "ul.cloud a[data-weight=\"1\"] { --size: 1; }\n",
    "ul.cloud a[data-weight=\"2\"] { --size: 2; }\n",
    "ul.cloud a[data-weight=\"3\"] { --size: 3; }\n",
    "ul.cloud a[data-weight=\"4\"] { --size: 4; }\n",
    "ul.cloud a[data-weight=\"5\"] { --size: 6; }\n",
    "ul.cloud a[data-weight=\"6\"] { --size: 8; }\n",
    "ul.cloud a[data-weight=\"7\"] { --size: 10; }\n",
    "ul.cloud a[data-weight=\"8\"] { --size: 13; }\n",
    "ul.cloud a[data-weight=\"9\"] { --size: 16; }\n",
    "\n",
    "ul[data-show-value] a::after {\n",
    "  content: \" (\" attr(data-weight) \")\";\n",
    "  font-size: 1rem;\n",
    "}\n",
    "\n",
    "ul.cloud li:nth-child(2n+1) a { --color: #181; }\n",
    "ul.cloud li:nth-child(3n+1) a { --color: #33a; }\n",
    "ul.cloud li:nth-child(4n+1) a { --color: #c38; }\n",
    "</style>"
   ]
  },
  {
   "cell_type": "markdown",
   "id": "61b1a906",
   "metadata": {},
   "source": [
    "Vamos criar um texto genérico (sem muito sentido) apenas para demostração:"
   ]
  },
  {
   "cell_type": "code",
   "execution_count": 4,
   "id": "fb827db8",
   "metadata": {},
   "outputs": [],
   "source": [
    "texto = '''\n",
    "python python python\n",
    "programacao programacao\n",
    "dados dados dados dados dados\n",
    "magalu magalu magalu magalu magalu magalu\n",
    "code code\n",
    "'''"
   ]
  },
  {
   "cell_type": "markdown",
   "id": "c8ba3431",
   "metadata": {},
   "source": [
    "Se quiséssemos fazer uma nuvem do texto genérico acima, teríamos a seguinte contagem:\n",
    "- python: 3\n",
    "- programação: 2\n",
    "- dados: 5\n",
    "- magalu: 6\n",
    "- code: 2\n",
    "\n",
    "Para formar nossa nuvem, teriamos que configurar nosso código (texto) em HTML da seguinte maneira:"
   ]
  },
  {
   "cell_type": "code",
   "execution_count": 5,
   "id": "5e03ee6e",
   "metadata": {},
   "outputs": [
    {
     "data": {
      "text/html": [
       "\n",
       "<ul class=\"cloud\">\n",
       "  <li><a data-weight=\"3\">python</a></li>\n",
       "  <li><a data-weight=\"2\">programacao</a></li>\n",
       "  <li><a data-weight=\"5\">dados</a></li>\n",
       "  <li><a data-weight=\"6\">magalu</a></li>\n",
       "  <li><a data-weight=\"2\">code</a></li>\n",
       "</ul>\n"
      ],
      "text/plain": [
       "<IPython.core.display.HTML object>"
      ]
     },
     "metadata": {},
     "output_type": "display_data"
    }
   ],
   "source": [
    "dados = '''\n",
    "<ul class=\"cloud\">\n",
    "  <li><a data-weight=\"3\">python</a></li>\n",
    "  <li><a data-weight=\"2\">programacao</a></li>\n",
    "  <li><a data-weight=\"5\">dados</a></li>\n",
    "  <li><a data-weight=\"6\">magalu</a></li>\n",
    "  <li><a data-weight=\"2\">code</a></li>\n",
    "</ul>\n",
    "'''\n",
    "display(HTML(dados))"
   ]
  },
  {
   "cell_type": "markdown",
   "id": "cf311310",
   "metadata": {},
   "source": [
    "#### Sua missão é, a partir de um texto qualquer, criar funções que, ao final do processo, criarão uma variável no mesmo formato da variável 'dados' criada acima e exibirão uma nuvem de palavras do texto usado como input."
   ]
  },
  {
   "cell_type": "markdown",
   "id": "34ac9c82",
   "metadata": {},
   "source": [
    "Crie funções para tratar:\n",
    "- Remoção de pontuações\n",
    "- Remoção de stop words (palavras como conjuções e preposições que podem poluir a análise)\n",
    "- Contagem de cada palavra no texto limpo\n",
    "- Criação do texto no formato HTML e exibição da nuvem"
   ]
  },
  {
   "cell_type": "code",
   "execution_count": 6,
   "id": "6351b890",
   "metadata": {},
   "outputs": [],
   "source": [
    "texto = '''\n",
    "python python python\n",
    "programacao programacao\n",
    "dados dados dados dados dados\n",
    "magalu magalu magalu magalu magalu magalu\n",
    "code code\n",
    "'''"
   ]
  },
  {
   "cell_type": "code",
   "execution_count": 7,
   "id": "f651f488",
   "metadata": {},
   "outputs": [],
   "source": [
    "def remove_pontuacoes(texto):\n",
    "    '''\n",
    "    - Recebe como input um texto\n",
    "    - Retorna um texto sem pontuações\n",
    "    '''\n",
    "    lista_pontuacoes = ['.',',',':',';','?','!','']\n",
    "\n",
    "    for p in lista_pontuacoes:\n",
    "        texto = texto.replace(p, \"\")\n",
    "\n",
    "    return texto"
   ]
  },
  {
   "cell_type": "code",
   "execution_count": 8,
   "id": "f024f0a6",
   "metadata": {},
   "outputs": [],
   "source": [
    "def remove_stop_words(texto):\n",
    "    '''\n",
    "    - Recebe como input o texto sem pontuações\n",
    "    - Retorna um texto sem stop words\n",
    "    - Dica: https://gist.github.com/alopes/5358189\n",
    "    '''\n",
    "    lista_stop_words = ['de', 'a', 'o', 'que', 'e', 'do', 'da', 'em', 'um', 'para', 'é', 'com', 'não', 'uma', 'os', 'no', 'se', 'na', 'por', 'mais', 'as', 'dos', 'como', 'mas', 'foi', 'ao', 'ele', 'das', 'tem', 'à', 'seu', 'sua', 'ou', 'ser', 'quando', 'muito', 'há', 'nos', 'já', 'está', 'eu', 'também', 'só', 'pelo', 'pela', 'até', 'isso', 'ela', 'entre', 'era', 'depois', 'sem', 'mesmo', 'aos', 'ter', 'seus', 'quem', 'nas', 'me', 'esse', 'eles', 'estão', 'você', 'tinha', 'foram', 'essa', 'num', 'nem', 'suas', 'meu', 'às', 'minha', 'têm', 'numa', 'pelos', 'elas', 'havia', 'seja', 'qual', 'será', 'nós', 'tenho', 'lhe', 'deles', 'essas', 'esses', 'pelas', 'este', 'fosse', 'dele', 'tu', 'te', 'vocês', 'vos', 'lhes', 'meus', 'minhas', 'teu', 'tua', 'teus', 'tuas', 'nosso', 'nossa', 'nossos', 'nossas', 'dela', 'delas', 'esta', 'estes', 'estas', 'aquele', 'aquela', 'aqueles', 'aquelas', 'isto', 'aquilo', 'estou', 'está', 'estamos', 'estão', 'estive', 'esteve', 'estivemos', 'estiveram', 'estava', 'estávamos', 'estavam', 'estivera', 'estivéramos', 'esteja', 'estejamos', 'estejam', 'estivesse', 'estivéssemos', 'estivessem', 'estiver', 'estivermos', 'estiverem', 'hei', 'há', 'havemos', 'hão', 'houve', 'houvemos', 'houveram', 'houvera', 'houvéramos', 'haja', 'hajamos', 'hajam', 'houvesse', 'houvéssemos', 'houvessem', 'houver', 'houvermos', 'houverem', 'houverei', 'houverá', 'houveremos', 'houverão', 'houveria', 'houveríamos', 'houveriam', 'sou', 'somos', 'são', 'era', 'éramos', 'eram', 'fui', 'foi', 'fomos', 'foram', 'fora', 'fôramos', 'seja', 'sejamos', 'sejam', 'fosse', 'fôssemos', 'fossem', 'for', 'formos', 'forem', 'serei', 'será', 'seremos', 'serão', 'seria', 'seríamos', 'seriam', 'tenho', 'tem', 'temos', 'tém', 'tinha', 'tínhamos', 'tinham', 'tive', 'teve', 'tivemos', 'tiveram', 'tivera', 'tivéramos', 'tenha', 'tenhamos', 'tenham', 'tivesse', 'tivéssemos', 'tivessem', 'tiver', 'tivermos', 'tiverem', 'terei', 'terá', 'teremos', 'terão', 'teria', 'teríamos', 'teriam']\n",
    "\n",
    "    lista_texto = texto.split()\n",
    "\n",
    "    for palavra in lista_texto:\n",
    "        if palavra in lista_stop_words:\n",
    "            lista_texto.remove(palavra)\n",
    "\n",
    "    return ' '.join(lista_texto)"
   ]
  },
  {
   "cell_type": "code",
   "execution_count": 9,
   "id": "b0fb6102",
   "metadata": {},
   "outputs": [],
   "source": [
    "def conta_palavras(texto):\n",
    "    '''\n",
    "    - Recebe como input o texto limpo\n",
    "    - Pode retornar o dado de duas formas (faça como preferir):\n",
    "        - Uma lista contendo cada palavra que aparece no texto e \n",
    "        uma lista com a contagem de cada palavra no texto\n",
    "    '''\n",
    "    lista = dict()\n",
    "\n",
    "    for palavra in texto.split():\n",
    "        if palavra.lower() in lista.keys():\n",
    "            lista[palavra.lower()] += 1\n",
    "        else:\n",
    "            lista[palavra.lower()] = 1\n",
    "\n",
    "    return lista"
   ]
  },
  {
   "cell_type": "code",
   "execution_count": 10,
   "id": "c7839cc2",
   "metadata": {},
   "outputs": [],
   "source": [
    "def criacao_variavel_html(lista):\n",
    "    '''\n",
    "    - Recebe como as listas ou o dicionário criados na função conta palavra\n",
    "    - retorna uma variável 'dados' que contém um texto formatado da mesma maneira que o exemplo acima\n",
    "    '''\n",
    "    html_txt = '''\n",
    "        <ul class=\"cloud\">\n",
    "    '''\n",
    "\n",
    "    for palavra in lista.keys():\n",
    "        html_txt += f'''\n",
    "        <li><a data-weight=\"{lista[palavra]}\">{palavra}</a></li>\n",
    "    '''\n",
    "    \n",
    "    html_txt += '''\n",
    "        </ul>\n",
    "    '''\n",
    "\n",
    "    return html_txt"
   ]
  },
  {
   "cell_type": "code",
   "execution_count": 11,
   "id": "ffef8fc6",
   "metadata": {},
   "outputs": [
    {
     "data": {
      "text/html": [
       "\n",
       "        <ul class=\"cloud\">\n",
       "    \n",
       "        </ul>\n",
       "    "
      ],
      "text/plain": [
       "<IPython.core.display.HTML object>"
      ]
     },
     "metadata": {},
     "output_type": "display_data"
    }
   ],
   "source": [
    "texto = input(\"Digite o texto para criar a nuvem de palavras\")\n",
    "\n",
    "texto = remove_pontuacoes(texto)\n",
    "\n",
    "texto = remove_stop_words(texto)\n",
    "\n",
    "dicionario = conta_palavras(texto)\n",
    "\n",
    "display(HTML(criacao_variavel_html(dicionario)))"
   ]
  }
 ],
 "metadata": {
  "kernelspec": {
   "display_name": "Python 3",
   "language": "python",
   "name": "python3"
  },
  "language_info": {
   "codemirror_mode": {
    "name": "ipython",
    "version": 3
   },
   "file_extension": ".py",
   "mimetype": "text/x-python",
   "name": "python",
   "nbconvert_exporter": "python",
   "pygments_lexer": "ipython3",
   "version": "3.10.2"
  }
 },
 "nbformat": 4,
 "nbformat_minor": 5
}
