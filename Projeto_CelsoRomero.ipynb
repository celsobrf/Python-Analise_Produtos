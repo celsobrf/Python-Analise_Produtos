{
 "cells": [
  {
   "cell_type": "code",
   "execution_count": 1,
   "metadata": {},
   "outputs": [],
   "source": [
    "import json\n",
    "import os.path\n",
    "import sys"
   ]
  },
  {
   "cell_type": "code",
   "execution_count": 2,
   "metadata": {},
   "outputs": [],
   "source": [
    "def obter_dados():\n",
    "\n",
    "    with open(os.path.join(sys.path[0], 'dados.json'), 'r') as arq:\n",
    "        dados = json.loads(arq.read())\n",
    "    return dados"
   ]
  },
  {
   "cell_type": "code",
   "execution_count": 3,
   "metadata": {},
   "outputs": [],
   "source": [
    "def listar_categorias(dados):\n",
    "\n",
    "    categorias = set([produto['categoria'] for produto in dados ])\n",
    "\n",
    "    return sorted(list(categorias))"
   ]
  },
  {
   "cell_type": "code",
   "execution_count": 4,
   "metadata": {},
   "outputs": [],
   "source": [
    "def listar_por_categoria(dados, categoria):\n",
    "\n",
    "    return [produto for produto in dados if produto['categoria'] == categoria] "
   ]
  },
  {
   "cell_type": "code",
   "execution_count": 5,
   "metadata": {},
   "outputs": [],
   "source": [
    "def top_x_por_categoria(dados, lista_categoria, isOrdenadoPorPrecoDecrecente, quantidade_produtos):\n",
    "    '''\n",
    "    lista_categoria = Lista contendo as categorias desejadas no retorno\n",
    "    lista_reversa = True (mais caro) ou False (mais barato) para identificar se é ordenado por ordem crescente ou decrescente de preço\n",
    "    quantidade_produtos = Quantidade de itens que devem ser retornados\n",
    "    '''\n",
    "    produtos_categoria = [produto for produto in dados if produto['categoria'] in lista_categoria]\n",
    "    produtos_ordenados_por_preco = sorted(produtos_categoria, key=lambda p: float(p['preco']), reverse=isOrdenadoPorPrecoDecrecente)\n",
    "\n",
    "    return produtos_ordenados_por_preco[0:quantidade_produtos]"
   ]
  },
  {
   "cell_type": "code",
   "execution_count": 5,
   "metadata": {},
   "outputs": [],
   "source": [
    "def produto_mais_caro(dados, categoria):\n",
    "\n",
    "    produto = dict()\n",
    "    preco_maximo = 0.0\n",
    "\n",
    "    for item in dados:\n",
    "        if item['categoria'] == categoria and float(item['preco']) >= preco_maximo:\n",
    "            preco_maximo = float(item['preco']) \n",
    "            produto = item\n",
    "\n",
    "    return produto"
   ]
  },
  {
   "cell_type": "code",
   "execution_count": 6,
   "metadata": {},
   "outputs": [],
   "source": [
    "def produto_mais_barato(dados, categoria):\n",
    "\n",
    "    produto = dict()\n",
    "    preco_minimo = 99999999.00\n",
    "\n",
    "    for item in dados:\n",
    "        if item['categoria'] == categoria and float(item['preco']) <= preco_minimo:\n",
    "            preco_minimo = float(item['preco']) \n",
    "            produto = item\n",
    "\n",
    "    return produto"
   ]
  },
  {
   "cell_type": "code",
   "execution_count": 8,
   "metadata": {},
   "outputs": [],
   "source": [
    "def top_10_caros(dados):\n",
    "\n",
    "    dados_ordenados_por_preco = sorted(dados, key=lambda p: float(p['preco']), reverse=True)\n",
    "\n",
    "    return dados_ordenados_por_preco[0:10]"
   ]
  },
  {
   "cell_type": "code",
   "execution_count": 10,
   "metadata": {},
   "outputs": [],
   "source": [
    "def top_10_baratos(dados):\n",
    "\n",
    "    dados_ordenados_por_preco = sorted(dados, key=lambda p: float(p['preco']))\n",
    "\n",
    "    return dados_ordenados_por_preco[0:10]"
   ]
  },
  {
   "cell_type": "code",
   "execution_count": 6,
   "metadata": {},
   "outputs": [],
   "source": [
    "def menu(dados):\n",
    "    dados = obter_dados()\n",
    "\n",
    "    while True:\n",
    "        opcao = input('''    - Escolha a opção desejada:\n",
    "        1. Listar categorias\n",
    "        2. Listar produtos de uma categoria\n",
    "        3. Produto mais caro por categoria\n",
    "        4. Produto mais barato por categoria\n",
    "        5. Top 10 produtos mais caros\n",
    "        6. Top 10 produtos mais baratos\n",
    "        0. Sair\n",
    "        ''')\n",
    "        if opcao == '1':\n",
    "            print(listar_categorias(dados))\n",
    "        elif opcao == '2':\n",
    "            categoria = input(\"Selecione a categoria desejada: \")\n",
    "            print(listar_por_categoria(dados,categoria))\n",
    "        elif opcao == '3':\n",
    "            categoria = input(\"Selecione a categoria desejada: \")\n",
    "            #print(produto_mais_caro(dados,categoria))\n",
    "            print(top_x_por_categoria(dados,[categoria],True,1))\n",
    "        elif opcao == '4':\n",
    "            categoria = input(\"Selecione a categoria desejada: \")\n",
    "            #print(produto_mais_barato(dados,categoria))\n",
    "            print(top_x_por_categoria(dados,[categoria],False,1))\n",
    "        elif opcao == '5':\n",
    "            #print(top_10_caros(dados))\n",
    "            print(top_x_por_categoria(dados,listar_categorias(dados),True,10))\n",
    "        elif opcao == '6':\n",
    "            #print(top_10_baratos(dados))\n",
    "            print(top_x_por_categoria(dados,listar_categorias(dados),False,10))\n",
    "        elif opcao == '0':\n",
    "            break\n",
    "        else:\n",
    "            print(\"Opção inválida.\")"
   ]
  },
  {
   "cell_type": "code",
   "execution_count": 7,
   "metadata": {},
   "outputs": [
    {
     "name": "stdout",
     "output_type": "stream",
     "text": [
      "['agro_industria_e_comercio', 'alimentos', 'alimentos_bebidas', 'artes', 'artes_e_artesanato', 'artigos_de_festas', 'artigos_de_natal', 'audio', 'automotivo', 'bebes', 'bebidas', 'beleza_saude', 'brinquedos', 'cama_mesa_banho', 'casa_conforto', 'casa_construcao', 'cds_dvds_musicais', 'cine_foto', 'climatizacao', 'consoles_games', 'construcao_ferramentas_construcao', 'construcao_ferramentas_ferramentas', 'construcao_ferramentas_iluminacao', 'construcao_ferramentas_jardim', 'construcao_ferramentas_seguranca', 'dvds_blu_ray', 'eletrodomesticos', 'eletronicos', 'eletroportateis', 'esporte_lazer', 'fashion_bolsas_e_acessorios', 'fashion_calcados', 'fashion_esporte', 'fashion_roupa_feminina', 'fashion_roupa_infanto_juvenil', 'fashion_roupa_masculina', 'fashion_underwear_e_moda_praia', 'ferramentas_jardim', 'flores', 'fraldas_higiene', 'industria_comercio_e_negocios', 'informatica_acessorios', 'instrumentos_musicais', 'la_cuisine', 'livros_importados', 'livros_interesse_geral', 'livros_tecnicos', 'malas_acessorios', 'market_place', 'moveis_colchao_e_estofado', 'moveis_cozinha_area_de_servico_jantar_e_jardim', 'moveis_decoracao', 'moveis_escritorio', 'moveis_quarto', 'moveis_sala', 'musica', 'papelaria', 'pc_gamer', 'pcs', 'perfumaria', 'pet_shop', 'portateis_casa_forno_e_cafe', 'portateis_cozinha_e_preparadores_de_alimentos', 'relogios_presentes', 'seguros_e_servicos', 'sinalizacao_e_seguranca', 'tablets_impressao_imagem', 'telefonia', 'telefonia_fixa', 'utilidades_domesticas']\n",
      "[{'id': '446e7c2a-1e45-4dcd-95a4-a66e884f4e8e', 'preco': '1881.07', 'categoria': 'telefonia'}, {'id': '83d0ce1d-71e4-418a-996d-45ee454cca2d', 'preco': '3072.89', 'categoria': 'telefonia'}, {'id': '6d5bda6d-e3f7-41a5-a006-3182d5c415f4', 'preco': '1247.74', 'categoria': 'telefonia'}, {'id': '8f436734-9941-4aae-9ded-3010d09bf4fc', 'preco': '3653.51', 'categoria': 'telefonia'}, {'id': '6e396e42-bb85-4913-b09d-d3198ba7b3a8', 'preco': '1499.02', 'categoria': 'telefonia'}, {'id': 'dac61e08-f757-4636-a8d1-06450fc8bc0a', 'preco': '4981.87', 'categoria': 'telefonia'}, {'id': '9d3ef817-a690-4e5f-8ec6-497002865252', 'preco': '2891.43', 'categoria': 'telefonia'}, {'id': 'f95e90fb-48f1-4890-b254-59b11d627c3f', 'preco': '2434.51', 'categoria': 'telefonia'}, {'id': 'f5a3c74b-7bc3-4de9-9fb3-579f44110b2e', 'preco': '4289.23', 'categoria': 'telefonia'}, {'id': '60221e7d-39ac-4251-8a1a-b87c3e486e74', 'preco': '1677.38', 'categoria': 'telefonia'}, {'id': '62441ba5-141a-48d4-bd34-4fb82d00ea7b', 'preco': '1304.87', 'categoria': 'telefonia'}, {'id': 'cae4b68a-c74e-4796-ba91-cd39cdb3bf78', 'preco': '3969.13', 'categoria': 'telefonia'}, {'id': 'b0058dca-08fb-49ce-a635-a5a4b6419779', 'preco': '441.09', 'categoria': 'telefonia'}, {'id': '3872b6a2-0622-4468-a6f9-f95166a62028', 'preco': '1801.73', 'categoria': 'telefonia'}]\n",
      "[{'id': 'dac61e08-f757-4636-a8d1-06450fc8bc0a', 'preco': '4981.87', 'categoria': 'telefonia'}]\n",
      "[{'id': 'cf7b3745-3180-404c-a29b-d173eb29e6f3', 'preco': '4993.97', 'categoria': 'relogios_presentes'}, {'id': '98b795e3-1b38-48ac-a5a3-4438cec09c91', 'preco': '4987.13', 'categoria': 'fraldas_higiene'}, {'id': 'fc13c4f6-bf99-416e-90bb-cf7bf02e28d1', 'preco': '4986.94', 'categoria': 'construcao_ferramentas_iluminacao'}, {'id': '2b71bfa9-8fab-439d-8106-f455fb0dd1bd', 'preco': '4983.43', 'categoria': 'flores'}, {'id': '1d14cba2-14f6-4f19-bee1-dcc275f5a15c', 'preco': '4982.82', 'categoria': 'construcao_ferramentas_ferramentas'}, {'id': 'dac61e08-f757-4636-a8d1-06450fc8bc0a', 'preco': '4981.87', 'categoria': 'telefonia'}, {'id': '831667e7-d134-4898-b19c-062b9dc79673', 'preco': '4981.13', 'categoria': 'casa_construcao'}, {'id': '0f570854-7cb4-4efe-8da0-0b29ccc75c13', 'preco': '4979.39', 'categoria': 'eletrodomesticos'}, {'id': '056a2c47-f52e-4d8a-813f-7fdb1316ca51', 'preco': '4979.34', 'categoria': 'fashion_bolsas_e_acessorios'}, {'id': '639b7f9e-a9d7-40ea-9b8b-e3e4306c0e18', 'preco': '4974.17', 'categoria': 'casa_construcao'}]\n"
     ]
    }
   ],
   "source": [
    "# Chamada Inicial do Programa\n",
    "\n",
    "menu(obter_dados())"
   ]
  }
 ],
 "metadata": {
  "interpreter": {
   "hash": "9e1544ece40983b9dcb10e0aa1f5d0cdb8d9e539b9b8df5e9e5017ad7f05ebe2"
  },
  "kernelspec": {
   "display_name": "Python 3.9.2 64-bit",
   "language": "python",
   "name": "python3"
  },
  "language_info": {
   "codemirror_mode": {
    "name": "ipython",
    "version": 3
   },
   "file_extension": ".py",
   "mimetype": "text/x-python",
   "name": "python",
   "nbconvert_exporter": "python",
   "pygments_lexer": "ipython3",
   "version": "3.10.2"
  },
  "orig_nbformat": 4
 },
 "nbformat": 4,
 "nbformat_minor": 2
}
